{
  "nbformat": 4,
  "nbformat_minor": 0,
  "metadata": {
    "colab": {
      "name": "Time Series",
      "version": "0.3.2",
      "provenance": [],
      "collapsed_sections": []
    },
    "kernelspec": {
      "name": "python3",
      "display_name": "Python 3"
    },
    "accelerator": "GPU"
  },
  "cells": [
    {
      "cell_type": "markdown",
      "metadata": {
        "id": "K1ncyQCDOpbT",
        "colab_type": "text"
      },
      "source": [
        "## Intro"
      ]
    },
    {
      "cell_type": "markdown",
      "metadata": {
        "id": "t5lK6vqjOrkF",
        "colab_type": "text"
      },
      "source": [
        "This project is an example of applying various time series analysis techniques on stock price forecasting as well as preparing a pipeline for possible automated trading.\n",
        "\n",
        "During inference, the model will go through process shown below. The model training and preparation steps are designed around this requirement.\n",
        "\n",
        "1. Obtain new daily data from API\n",
        "2. Perform time series decomposition with all available data (or from historical _x_ years). The model will _not_ learn to predict the seasonal component (which might be easier to learn for more classical ML time series techniques)\n",
        "3. Input data into model for inference of next day's price (excluding seasonal component)\n",
        "4. Use seasonality from decomposition to predict what seasonal component will be in the next day's price.\n",
        "5. Sum them up to get final prediction.\n",
        "\n",
        "\n"
      ]
    },
    {
      "cell_type": "markdown",
      "metadata": {
        "id": "-xfW3cf5D2OE",
        "colab_type": "text"
      },
      "source": [
        "## Importing data from pandas datareader\n",
        "\n",
        "4 years historical daily data for SPY stock, which tracks the S&P 500, is used. It is roughly one-tenth of the actual S&P index price."
      ]
    },
    {
      "cell_type": "code",
      "metadata": {
        "id": "hr4WOJjWqVnx",
        "colab_type": "code",
        "outputId": "a33ddf92-a817-4d79-9cb3-08a71da9b371",
        "colab": {
          "base_uri": "https://localhost:8080/",
          "height": 35
        }
      },
      "source": [
        "import pandas_datareader.data as web\n",
        "\n",
        "import datetime\n",
        "\n",
        "end = datetime.datetime.now()\n",
        "start = end - datetime.timedelta(days=365 * 4 + 1)\n",
        "\n",
        "print(start, end)\n",
        "\n",
        "f = web.DataReader('SPY', 'iex', start, end)"
      ],
      "execution_count": 2,
      "outputs": [
        {
          "output_type": "stream",
          "text": [
            "2015-05-14 17:26:42.719970 2019-05-14 17:26:42.719970\n"
          ],
          "name": "stdout"
        }
      ]
    },
    {
      "cell_type": "markdown",
      "metadata": {
        "id": "ma27_PoCEsoG",
        "colab_type": "text"
      },
      "source": [
        "## Visualizing the data\n",
        "\n",
        "Only the closing price is used"
      ]
    },
    {
      "cell_type": "code",
      "metadata": {
        "id": "71WCg8-vFUmi",
        "colab_type": "code",
        "colab": {}
      },
      "source": [
        "# Essential Imports\n",
        "import numpy as np\n",
        "import pandas as pd\n",
        "from IPython.display import display\n",
        "\n",
        "import matplotlib.pyplot as plt\n",
        "import matplotlib.dates as mdates\n",
        "import matplotlib.ticker as ticker\n",
        "\n",
        "import seaborn as sns\n",
        "sns.set_style(\"whitegrid\")"
      ],
      "execution_count": 0,
      "outputs": []
    },
    {
      "cell_type": "code",
      "metadata": {
        "id": "Y4m_5iG-q5q2",
        "colab_type": "code",
        "outputId": "d08dd351-7e0a-49d5-be27-afdeb220718c",
        "colab": {
          "base_uri": "https://localhost:8080/",
          "height": 168
        }
      },
      "source": [
        "# Closing price\n",
        "display(f.tail(3))\n",
        "\n",
        "t = pd.to_datetime(f.index.values)\n",
        "y = f.iloc[:,3].values"
      ],
      "execution_count": 4,
      "outputs": [
        {
          "output_type": "display_data",
          "data": {
            "text/html": [
              "<div>\n",
              "<style scoped>\n",
              "    .dataframe tbody tr th:only-of-type {\n",
              "        vertical-align: middle;\n",
              "    }\n",
              "\n",
              "    .dataframe tbody tr th {\n",
              "        vertical-align: top;\n",
              "    }\n",
              "\n",
              "    .dataframe thead th {\n",
              "        text-align: right;\n",
              "    }\n",
              "</style>\n",
              "<table border=\"1\" class=\"dataframe\">\n",
              "  <thead>\n",
              "    <tr style=\"text-align: right;\">\n",
              "      <th></th>\n",
              "      <th>open</th>\n",
              "      <th>high</th>\n",
              "      <th>low</th>\n",
              "      <th>close</th>\n",
              "      <th>volume</th>\n",
              "    </tr>\n",
              "    <tr>\n",
              "      <th>date</th>\n",
              "      <th></th>\n",
              "      <th></th>\n",
              "      <th></th>\n",
              "      <th></th>\n",
              "      <th></th>\n",
              "    </tr>\n",
              "  </thead>\n",
              "  <tbody>\n",
              "    <tr>\n",
              "      <th>2019-05-09</th>\n",
              "      <td>285.23</td>\n",
              "      <td>287.33</td>\n",
              "      <td>283.30</td>\n",
              "      <td>286.66</td>\n",
              "      <td>103471104</td>\n",
              "    </tr>\n",
              "    <tr>\n",
              "      <th>2019-05-10</th>\n",
              "      <td>285.62</td>\n",
              "      <td>288.94</td>\n",
              "      <td>282.30</td>\n",
              "      <td>288.10</td>\n",
              "      <td>112429293</td>\n",
              "    </tr>\n",
              "    <tr>\n",
              "      <th>2019-05-13</th>\n",
              "      <td>282.42</td>\n",
              "      <td>283.49</td>\n",
              "      <td>279.93</td>\n",
              "      <td>280.86</td>\n",
              "      <td>127290527</td>\n",
              "    </tr>\n",
              "  </tbody>\n",
              "</table>\n",
              "</div>"
            ],
            "text/plain": [
              "              open    high     low   close     volume\n",
              "date                                                 \n",
              "2019-05-09  285.23  287.33  283.30  286.66  103471104\n",
              "2019-05-10  285.62  288.94  282.30  288.10  112429293\n",
              "2019-05-13  282.42  283.49  279.93  280.86  127290527"
            ]
          },
          "metadata": {
            "tags": []
          }
        }
      ]
    },
    {
      "cell_type": "markdown",
      "metadata": {
        "id": "xLfPo_FDM1En",
        "colab_type": "text"
      },
      "source": [
        "Plotting the data with matplotlib"
      ]
    },
    {
      "cell_type": "code",
      "metadata": {
        "id": "GNdYdu-bHnBN",
        "colab_type": "code",
        "outputId": "1ffa0763-6b8e-4112-cbe3-030c76418803",
        "colab": {
          "base_uri": "https://localhost:8080/",
          "height": 393
        }
      },
      "source": [
        "fig, ax = plt.subplots()\n",
        "\n",
        "def plt_setup_time_axis(ax):\n",
        "  # Format date x-axis\n",
        "  years = mdates.YearLocator()\n",
        "  months = mdates.MonthLocator()\n",
        "  years_formatter = mdates.DateFormatter('%Y')\n",
        "\n",
        "  ax.xaxis.set_major_locator(years)\n",
        "  ax.xaxis.set_major_formatter(years_formatter)\n",
        "  ax.xaxis.set_minor_locator(months)\n",
        "\n",
        "  # Autoscale and show plot\n",
        "  ax.autoscale_view()\n",
        "\n",
        "# Plot the data\n",
        "ax.plot_date(t, y, '-')\n",
        "plt_setup_time_axis(ax)\n",
        "\n",
        "# Format price y-axis\n",
        "price_formatter = ticker.FormatStrFormatter('$%1.2f')\n",
        "ax.yaxis.set_major_formatter(price_formatter)\n",
        "\n",
        "ax.set_ylabel('SPY Price')\n",
        "ax.grid(True)\n",
        "plt.show()"
      ],
      "execution_count": 5,
      "outputs": [
        {
          "output_type": "stream",
          "text": [
            "/usr/local/lib/python3.6/dist-packages/pandas/plotting/_converter.py:129: FutureWarning: Using an implicitly registered datetime converter for a matplotlib plotting method. The converter was registered by pandas on import. Future versions of pandas will require you to explicitly register matplotlib converters.\n",
            "\n",
            "To register the converters:\n",
            "\t>>> from pandas.plotting import register_matplotlib_converters\n",
            "\t>>> register_matplotlib_converters()\n",
            "  warnings.warn(msg, FutureWarning)\n"
          ],
          "name": "stderr"
        },
        {
          "output_type": "display_data",
          "data": {
            "image/png": "[encoded data removed]",
            "text/plain": [
              "<Figure size 432x288 with 1 Axes>"
            ]
          },
          "metadata": {
            "tags": []
          }
        }
      ]
    },
    {
      "cell_type": "markdown",
      "metadata": {
        "id": "Ve9Bdr4TOTPc",
        "colab_type": "text"
      },
      "source": [
        "## Test time series decomposition method\n",
        "\n",
        "The stock price can be regarded as the cumulative result of various components which contribute to how the price may change at each time step. Assuming a multiplicative model (e.g. where price changes in terms of percentage are more reasonable compared to absolute values), the components are related to the price in the following way:\n",
        "\n",
        "$$y(t) = T * S * R$$\n",
        "\n",
        "where T is the general trend of the data, S is the seasonality present in the data, and R is the residual component.\n",
        "\n",
        "The algorithm for decomposition used is the Robust STL algorithm. Since the implementation is designed for additive models, we perform a log transform on $y$ to get\n",
        "\n",
        "$$log(y) = log(T) + log(S) + log(R)$$"
      ]
    },
    {
      "cell_type": "code",
      "metadata": {
        "id": "V5E1OfttDpfI",
        "colab_type": "code",
        "colab": {
          "base_uri": "https://localhost:8080/",
          "height": 35
        },
        "outputId": "78d6ad18-76cd-4e19-e403-487ba7fa7ebb"
      },
      "source": [
        "# Log-transform the data to represent multiplicative model as additive model\n",
        "logy = np.log(y)\n",
        "\n",
        "print(logy.max(), logy.min())"
      ],
      "execution_count": 6,
      "outputs": [
        {
          "output_type": "stream",
          "text": [
            "5.683681802949198 5.14506128644709\n"
          ],
          "name": "stdout"
        }
      ]
    },
    {
      "cell_type": "code",
      "metadata": {
        "id": "Mc50vqL5Bsbm",
        "colab_type": "code",
        "colab": {}
      },
      "source": [
        "import numpy as np\n",
        "from cvxopt import lapack, solvers\n",
        "from cvxopt import matrix, spdiag, mul, div\n",
        "\n",
        "\n",
        "def l1_solver(P, q):\n",
        "    \"\"\"\n",
        "    Returns the solution u of the ell-1 approximation problem\n",
        "\n",
        "        (primal) minimize ||P*u - q||_1\n",
        "\n",
        "        (dual)   maximize    q'*w\n",
        "                 subject to  P'*w = 0\n",
        "                             ||w||_infty <= 1.\n",
        "    \"\"\"\n",
        "\n",
        "    m, n = P.size\n",
        "\n",
        "    # Solve equivalent LP\n",
        "    #\n",
        "    #     minimize    [0; 1]' * [u; v]\n",
        "    #     subject to  [P, -I; -P, -I] * [u; v] <= [q; -q]\n",
        "    #\n",
        "    #     maximize    -[q; -q]' * z\n",
        "    #     subject to  [P', -P']*z  = 0\n",
        "    #                 [-I, -I]*z + 1 = 0\n",
        "    #                 z >= 0\n",
        "\n",
        "    c = matrix(n * [0.0] + m * [1.0])\n",
        "    h = matrix(np.concatenate([q, -q], axis=0))\n",
        "\n",
        "    def Fi(x, y, alpha=1.0, beta=0.0, trans='N'):\n",
        "        if trans == 'N':\n",
        "            # y := alpha * [P, -I; -P, -I] * x + beta*y\n",
        "            u = P * x[:n]\n",
        "            y[:m] = alpha * (u - x[n:]) + beta * y[:m]\n",
        "            y[m:] = alpha * (-u - x[n:]) + beta * y[m:]\n",
        "\n",
        "        else:\n",
        "            # y := alpha * [P', -P'; -I, -I] * x + beta*y\n",
        "            y[:n] = alpha * P.T * (x[:m] - x[m:]) + beta * y[:n]\n",
        "            y[n:] = -alpha * (x[:m] + x[m:]) + beta * y[n:]\n",
        "\n",
        "    def Fkkt(W):\n",
        "\n",
        "        # Returns a function f(x, y, z) that solves\n",
        "        #\n",
        "        # [ 0  0  P'      -P'      ] [ x[:n] ]   [ bx[:n] ]\n",
        "        # [ 0  0 -I       -I       ] [ x[n:] ]   [ bx[n:] ]\n",
        "        # [ P -I -W1^2     0       ] [ z[:m] ] = [ bz[:m] ]\n",
        "        # [-P -I  0       -W2      ] [ z[m:] ]   [ bz[m:] ]\n",
        "        #\n",
        "        # On entry bx, bz are stored in x, z.\n",
        "        # On exit x, z contain the solution, with z scaled (W['di'] .* z is\n",
        "        # returned instead of z).\n",
        "\n",
        "        d1, d2 = W['d'][:m], W['d'][m:]\n",
        "        D = 4 * (d1 ** 2 + d2 ** 2) ** -1\n",
        "        A = P.T * spdiag(D) * P\n",
        "        lapack.potrf(A)\n",
        "\n",
        "        def f(x, y, z):\n",
        "            x[:n] += P.T * (mul(div(d2 ** 2 - d1 ** 2, d1 ** 2 + d2 ** 2), x[n:])\n",
        "                            + mul(.5 * D, z[:m] - z[m:]))\n",
        "            lapack.potrs(A, x)\n",
        "\n",
        "            u = P * x[:n]\n",
        "            x[n:] = div(x[n:] - div(z[:m], d1 ** 2) - div(z[m:], d2 ** 2) +\n",
        "                        mul(d1 ** -2 - d2 ** -2, u), d1 ** -2 + d2 ** -2)\n",
        "\n",
        "            z[:m] = div(u - x[n:] - z[:m], d1)\n",
        "            z[m:] = div(-u - x[n:] - z[m:], d2)\n",
        "\n",
        "        return f\n",
        "\n",
        "    # Initial primal and dual points from least-squares solution.\n",
        "\n",
        "    # uls minimizes ||P*u-q||_2; rls is the LS residual.\n",
        "    uls = +q\n",
        "    lapack.gels(+P, uls)\n",
        "    rls = P * uls[:n] - q\n",
        "\n",
        "    # x0 = [ uls;  1.1*abs(rls) ];   s0 = [q;-q] - [P,-I; -P,-I] * x0\n",
        "    x0 = matrix([uls[:n], 1.1 * abs(rls)])\n",
        "    s0 = +h\n",
        "    Fi(x0, s0, alpha=-1, beta=1)\n",
        "\n",
        "    # z0 = [ (1+w)/2; (1-w)/2 ] where w = (.9/||rls||_inf) * rls\n",
        "    # if rls is nonzero and w = 0 otherwise.\n",
        "    if max(abs(rls)) > 1e-10:\n",
        "        w = .9 / max(abs(rls)) * rls\n",
        "    else:\n",
        "        w = matrix(0.0, (m, 1))\n",
        "    z0 = matrix([.5 * (1 + w), .5 * (1 - w)])\n",
        "\n",
        "    dims = {'l': 2 * m, 'q': [], 's': []}\n",
        "    sol = solvers.conelp(c, Fi, h, dims, options=dict(show_progress=False), kktsolver=Fkkt,\n",
        "                         primalstart={'x': x0, 's': s0}, dualstart={'z': z0})\n",
        "    return sol['x'][:n]\n",
        "\n"
      ],
      "execution_count": 0,
      "outputs": []
    },
    {
      "cell_type": "code",
      "metadata": {
        "id": "iboW_IFxJmf2",
        "colab_type": "code",
        "colab": {}
      },
      "source": [
        "import numpy as np\n",
        "import statsmodels.api as sm\n",
        "from cvxopt import matrix\n",
        "from sklearn.preprocessing import MinMaxScaler\n",
        "\n",
        "# Default RobustSTL Options were found from random search over hyperparam space\n",
        "_rstloptions = {\n",
        "    \"filter_size\": 2,\n",
        "    \"denoising_delta_spatial\": 3.145,\n",
        "    \"denoising_delta_range\": 1.427,\n",
        "    \"seasonal_delta_spatial\": 2.062,\n",
        "    \"seasonal_delta_range\": 4.406,\n",
        "    \"trend_l1\": 1.164,\n",
        "    \"trend_l2\": 1.541\n",
        "}\n",
        "\n",
        "\n",
        "def extend_seasonal_forecast(x, extension, period=12):\n",
        "    '''\n",
        "    Returns an extension of a seasonal forecast array from x for a specified number of time points.\n",
        "    Only stable for 1D array\n",
        "\n",
        "    Args:\n",
        "      x: Numpy array to extend forecast from.\n",
        "    '''\n",
        "    if x.shape[0] < period:\n",
        "        raise Exception(\"Seasonal data provided is shorter than the required seasonal period!\")\n",
        "\n",
        "    if extension < period:\n",
        "        return x[-period: -period + extension]\n",
        "    else:\n",
        "        raise NotImplementedError(\"This function cannot generate an extension beyond the period yet.\")\n",
        "\n",
        "def robust_stl(y, period=12, n_iter=1,\n",
        "               filter_size=_rstloptions[\"filter_size\"],\n",
        "               denoising_delta_spatial=_rstloptions[\"denoising_delta_spatial\"],\n",
        "               denoising_delta_range=_rstloptions[\"denoising_delta_range\"],\n",
        "               seasonal_delta_spatial=_rstloptions[\"seasonal_delta_spatial\"],\n",
        "               seasonal_delta_range=_rstloptions[\"seasonal_delta_range\"],\n",
        "               trend_l1=_rstloptions[\"trend_l1\"],\n",
        "               trend_l2=_rstloptions[\"trend_l2\"]):\n",
        "    '''\n",
        "    Applies the RobustSTL algorithm by Wen et al. in https://arxiv.org/pdf/1812.01767.pdf\n",
        "    to decompose time-series data into Trend, Seasonal, Residual components.\n",
        "    Designed for the additive model. Use log-transformation if the multiplicative model is desired.\n",
        "    Applies min-max normalization to data before filtering/extracting seasonality.\n",
        "\n",
        "    Params:\n",
        "      y: numpy array to apply STL decomposition\n",
        "      period: seasonal period length (e.g. 12 months)\n",
        "      n_iter: number of iterations to apply the robust_stl algorithm\n",
        "      plot: Boolean to specify if the final output decomposition graphs should be plotted.\n",
        "      plot_iter: Boolean to specify if the output decomposition graphs after each iteration should be plotted.\n",
        "\n",
        "      filter_size: Filter size for both bilateral denoising filter and seasonal filter\n",
        "      denoising_delta_spatial: Parameter to specify how smoothed the denoised data should be in the spatial dimension (t-axis)\n",
        "      denoising_delta_range: Parameter to specify how smoothed the denoised data should be in the range dimension (y-axis)\n",
        "      seasonal_delta_spatial:\n",
        "      seasonal_delta_range:\n",
        "      trend_l1:\n",
        "      trend_l2:\n",
        "    '''\n",
        "    output_seasonal = np.zeros_like(y)\n",
        "    output_trend = np.zeros_like(y)\n",
        "\n",
        "    data = y.copy()\n",
        "    for i in range(n_iter):\n",
        "        denoised = bilateral_filter(data, h=filter_size, delta_spatial=denoising_delta_spatial,\n",
        "                                    delta_range=denoising_delta_range)\n",
        "        deseasoned = seasonal_difference(denoised, period=period)\n",
        "\n",
        "        trend_diff = get_trend_difference(data.shape[0], period, deseasoned, l1=trend_l1, l2=trend_l2)\n",
        "        relative_trend = np.concatenate([np.zeros((1, 1)), np.cumsum(trend_diff, axis=0)])\n",
        "\n",
        "        contaminated_season = denoised - relative_trend.reshape(-1)\n",
        "        seasonal = seasonal_filter(contaminated_season, h=filter_size, period=period,\n",
        "                                   delta_spatial=seasonal_delta_spatial, delta_range=seasonal_delta_range)\n",
        "\n",
        "        estimated_seasonal, estimated_trend = estimate_components(seasonal, relative_trend, period=period)\n",
        "\n",
        "        output_seasonal += estimated_seasonal\n",
        "        output_trend += estimated_trend\n",
        "        data = y - output_seasonal - output_trend\n",
        "\n",
        "    output_residual = y - output_seasonal - output_trend\n",
        "    return output_seasonal, output_trend, output_residual\n",
        "\n",
        "\n",
        "# Noise Removal\n",
        "def bilateral_filter(x, h=1, delta_spatial=2, delta_range=1):\n",
        "    x_filtered = np.zeros_like(x).reshape(-1, 1)\n",
        "\n",
        "    x_scaler = MinMaxScaler()\n",
        "    x = x_scaler.fit_transform(x.reshape(-1, 1)).reshape(-1)\n",
        "\n",
        "    for t in range(x.shape[0]):\n",
        "        j = np.arange(max(0, t - h), min(x.shape[0], t + h + 1))\n",
        "\n",
        "        w = np.exp(-0.5 * (np.abs(j - t) / delta_spatial) ** 2 - 0.5 * (np.abs(x[j] - x[t]) / delta_range) ** 2)\n",
        "        w /= np.sum(w)\n",
        "        x_filtered[t] = np.sum(w * x[j])\n",
        "\n",
        "    return x_scaler.inverse_transform(x_filtered).reshape(-1)\n",
        "\n",
        "\n",
        "def seasonal_difference(x, period=4):\n",
        "    return x[period:] - x[:-period]\n",
        "\n",
        "\n",
        "def get_trend_difference(ts_length, period, deseasoned_series, l1=10, l2=0.5):\n",
        "    # Instantiate numpy arrays as empty/identity first. Preallocated for speed\n",
        "    empirical_error_indices = np.zeros((ts_length - period, ts_length - 1))\n",
        "    first_difference_indices = np.identity(ts_length - 1)\n",
        "    second_difference_indices = np.zeros((ts_length - 2, ts_length - 1))\n",
        "\n",
        "    # Populate empirical error index matrix\n",
        "    for i in range(ts_length - period):\n",
        "        empirical_error_indices[i, i: i + period] = 1\n",
        "\n",
        "    # Populate second difference index matrix\n",
        "    for i in range(ts_length - 2):\n",
        "        second_difference_indices[i, i: i + 2] = np.array([1, -1])\n",
        "\n",
        "    # L1-norm problem formulation\n",
        "    P = np.concatenate([empirical_error_indices, l1 * first_difference_indices, l2 * second_difference_indices], axis=0)\n",
        "    q = np.concatenate([deseasoned_series.reshape(-1, 1), np.zeros((2 * ts_length - 3, 1))], axis=0)\n",
        "    if P.size == 0 or q.size == 0:\n",
        "        raise ValueError(\"Input dimensions cannot be zero!\")\n",
        "    return l1_solver(matrix(P), matrix(q))\n",
        "\n",
        "\n",
        "def seasonal_filter(x, h=1, period=4, delta_spatial=2, delta_range=1):\n",
        "    x_filtered = np.zeros_like(x).reshape(-1, 1)\n",
        "\n",
        "    x_scaler = MinMaxScaler()\n",
        "    x = x_scaler.fit_transform(x.reshape(-1, 1)).reshape(-1)\n",
        "\n",
        "    for i in range(x.shape[0]):\n",
        "        w_vec = np.zeros_like(x)\n",
        "\n",
        "        for j in range(1 + i // period):\n",
        "            idx = j * period + i % period\n",
        "            window = np.arange(max(0, idx - h), min(x.shape[0], idx + h + 1))\n",
        "\n",
        "            w = np.exp(-0.5 * (np.abs(window - idx) / delta_spatial) ** 2 - 0.5 * (\n",
        "                        np.abs(x[window] - x[idx]) / delta_range) ** 2)\n",
        "            w /= w.sum()\n",
        "            w_vec[window] = w\n",
        "\n",
        "        x_filtered[i] = np.sum((w_vec / w_vec.sum()) * x)\n",
        "\n",
        "    return x_scaler.inverse_transform(x_filtered).reshape(-1)\n",
        "\n",
        "\n",
        "def estimate_components(seasonal, rel_trend, period=12):\n",
        "    if seasonal.shape[0] // period == 0:\n",
        "        end_idx = None\n",
        "    else:\n",
        "        end_idx = period * (seasonal.shape[0] // period)\n",
        "    tp1 = seasonal[:end_idx].mean()\n",
        "\n",
        "    return seasonal - tp1, (rel_trend + tp1).reshape(-1)\n"
      ],
      "execution_count": 0,
      "outputs": []
    },
    {
      "cell_type": "code",
      "metadata": {
        "id": "EwovrdXQJp2G",
        "colab_type": "code",
        "colab": {}
      },
      "source": [
        "_rstloptions = {\n",
        "    \"filter_size\": 5,\n",
        "    \"denoising_delta_spatial\": 5,\n",
        "    \"denoising_delta_range\": 3,\n",
        "    \"seasonal_delta_spatial\": 5,\n",
        "    \"seasonal_delta_range\": 5,\n",
        "    \"trend_l1\": 2,\n",
        "    \"trend_l2\": 3\n",
        "}\n",
        "\n",
        "seasonal, trend, residual = robust_stl(logy, period=365, n_iter=5)"
      ],
      "execution_count": 0,
      "outputs": []
    },
    {
      "cell_type": "code",
      "metadata": {
        "id": "E4KtjDajCBSt",
        "colab_type": "code",
        "colab": {
          "base_uri": "https://localhost:8080/",
          "height": 215
        },
        "outputId": "05244af9-0438-478e-b5fe-f6e2ecd58de8"
      },
      "source": [
        "fig,ax = plt.subplots(figsize=(18,3))\n",
        "\n",
        "ax = plt.subplot(1, 3, 1)\n",
        "plt.plot(t, seasonal)\n",
        "plt_setup_time_axis(ax)\n",
        "\n",
        "ax = plt.subplot(1, 3, 2)\n",
        "plt.plot(t, trend)\n",
        "plt_setup_time_axis(ax)\n",
        "\n",
        "ax = plt.subplot(1, 3, 3)\n",
        "plt.plot(t, residual)\n",
        "plt_setup_time_axis(ax)\n",
        "\n",
        "plt.show()"
      ],
      "execution_count": 10,
      "outputs": [
        {
          "output_type": "display_data",
          "data": {
            "image/png": "[encoded data removed]",
            "text/plain": [
              "<Figure size 1296x216 with 3 Axes>"
            ]
          },
          "metadata": {
            "tags": []
          }
        }
      ]
    },
    {
      "cell_type": "markdown",
      "metadata": {
        "id": "w29n5yXWc-bu",
        "colab_type": "text"
      },
      "source": [
        "The selected settings for time series decomposition seems to work fine. Note that this decomposition was done using all the available data. To prevent information leak, when we are designing the models, the decomposition must be redone using the training data alone."
      ]
    },
    {
      "cell_type": "markdown",
      "metadata": {
        "id": "5NJqYB0dQuHp",
        "colab_type": "text"
      },
      "source": [
        "## Prepare preprocessing pipeline"
      ]
    },
    {
      "cell_type": "markdown",
      "metadata": {
        "id": "YN0WuwjbQ1AL",
        "colab_type": "text"
      },
      "source": [
        "To simplify the problem and to reduce the chance that the model will learn badly, we will assume the seasonality component is independent of the trend and residual. The model will thus only be tasked to take the trend and residual as input, and output the closing price for the next day.\n",
        "\n",
        "The preprocessing pipeline will consist of the following steps:\n",
        "\n",
        "Train-test Split $\\rightarrow$ TS Decomposition $\\rightarrow$ Recombining training data $\\rightarrow$ Extract training samples using sliding window $\\rightarrow$ Apply local normalization for each training sample\n",
        "\n",
        "The steps are run and tested manually first, before being put into a single preprocessing function."
      ]
    },
    {
      "cell_type": "markdown",
      "metadata": {
        "id": "wQvi8KbmZFSz",
        "colab_type": "text"
      },
      "source": [
        "#### Preparing train-val-test split\n",
        "\n",
        "The first 80% of the time series is used as training data, and the next 10% is validation data. The last 10% of the time series will be used to evaluate the final model performance. The sequence must be preserved to prevent information leak into the training or validation data."
      ]
    },
    {
      "cell_type": "code",
      "metadata": {
        "id": "w7jZ9vFfQxAX",
        "colab_type": "code",
        "colab": {}
      },
      "source": [
        "# Input desired train-val-test split percentages here\n",
        "# (test set is automatically calculated to be remainder after subtracting train and val sets.)\n",
        "\n",
        "def split_dataset(y, split_percentages):\n",
        "  train_idx = round(split_percentages[0] * y.shape[0])\n",
        "  train_set = y[:train_idx]\n",
        "\n",
        "  validation_idx = round((split_percentages[0] + split_percentages[1]) * y.shape[0])\n",
        "  validation_set = y[train_idx : validation_idx]\n",
        "\n",
        "  # Rest of the data is sent to test set.\n",
        "  test_set = y[validation_idx:]\n",
        "  \n",
        "  return [\n",
        "      [train_set, validation_set, test_set],\n",
        "      [train_idx, validation_idx]\n",
        "  ]\n",
        "\n",
        "\n",
        "# Unit Testing\n",
        "__test_arr = np.arange(20)\n",
        "\n",
        "datasets, indices = split_dataset(__test_arr, [0.8, 0.1, 0.1])\n",
        "\n",
        "# Destructure datasets for testing\n",
        "train_set, validation_set, test_set = datasets\n",
        "assert train_set.shape[0] == 16\n",
        "assert validation_set.shape[0] == 2\n",
        "assert test_set.shape[0] == 2"
      ],
      "execution_count": 0,
      "outputs": []
    },
    {
      "cell_type": "code",
      "metadata": {
        "id": "xE1_QvdCQ6UW",
        "colab_type": "code",
        "colab": {
          "base_uri": "https://localhost:8080/",
          "height": 215
        },
        "outputId": "93232bc0-e738-4861-8c85-4c9019cb9176"
      },
      "source": [
        "# Generate splits\n",
        "split_percentages = [0.8, 0.1, 0.1]\n",
        "datasets, indices = split_dataset(logy, split_percentages)\n",
        "\n",
        "# Destructure data\n",
        "train_set, validation_set, test_set = datasets\n",
        "train_idx, validation_idx = indices\n",
        "\n",
        "# Plot the split data to visualize what the model will actually be trying to learn/predict\n",
        "fig, ax = plt.subplots(figsize=(12,3))\n",
        "plt.plot(t[:train_idx], train_set)\n",
        "plt.plot(t[train_idx:validation_idx], validation_set)\n",
        "plt.plot(t[validation_idx:], test_set)\n",
        "\n",
        "plt_setup_time_axis(ax)"
      ],
      "execution_count": 12,
      "outputs": [
        {
          "output_type": "display_data",
          "data": {
            "image/png": "[encoded data removed]",
            "text/plain": [
              "<Figure size 864x216 with 1 Axes>"
            ]
          },
          "metadata": {
            "tags": []
          }
        }
      ]
    },
    {
      "cell_type": "markdown",
      "metadata": {
        "id": "WVS0DMs-gCzn",
        "colab_type": "text"
      },
      "source": [
        "#### Apply TS Decomposition to Training Set"
      ]
    },
    {
      "cell_type": "code",
      "metadata": {
        "id": "hM709LGYgGdY",
        "colab_type": "code",
        "colab": {
          "base_uri": "https://localhost:8080/",
          "height": 160
        },
        "outputId": "9f0b6fe6-dcdd-4c0f-a6e4-2b2312e2d7d6"
      },
      "source": [
        "seasonal, trend, residual = robust_stl(train_set, period=365, n_iter=5)\n",
        "\n",
        "fig,ax = plt.subplots(figsize=(15,2))\n",
        "\n",
        "ax = plt.subplot(1, 3, 1)\n",
        "plt.plot(t[:train_idx], seasonal)\n",
        "plt_setup_time_axis(ax)\n",
        "\n",
        "ax = plt.subplot(1, 3, 2)\n",
        "plt.plot(t[:train_idx], trend)\n",
        "plt_setup_time_axis(ax)\n",
        "\n",
        "ax = plt.subplot(1, 3, 3)\n",
        "plt.plot(t[:train_idx], residual)\n",
        "plt_setup_time_axis(ax)\n",
        "\n",
        "plt.show()"
      ],
      "execution_count": 13,
      "outputs": [
        {
          "output_type": "display_data",
          "data": {
            "image/png": "[encoded data removed]",
            "text/plain": [
              "<Figure size 1080x144 with 3 Axes>"
            ]
          },
          "metadata": {
            "tags": []
          }
        }
      ]
    },
    {
      "cell_type": "markdown",
      "metadata": {
        "id": "u7xobVXWgzpy",
        "colab_type": "text"
      },
      "source": [
        "#### Extract training samples using sliding window\n",
        "\n",
        "Each training sample will take about 1.25 times of a month's worth of working days, i.e. around 27 days.\n",
        "\n",
        "If the sequence length to extract is $L_s$ for each sample, and the dataset is of length number $L_T$, the number of samples we can extract is:\n",
        "\n",
        "$$N_s = L_T - L_s +1$$"
      ]
    },
    {
      "cell_type": "code",
      "metadata": {
        "id": "3g4vqG9Ah1DG",
        "colab_type": "code",
        "colab": {}
      },
      "source": [
        "def extract_training_samples(train_set, seq_length, ignore_last=False):\n",
        "  '''\n",
        "  Extracts subsequence training samples using a sliding window.\n",
        "  Params:\n",
        "    train_set: 1- or 2-D array to extract samples from\n",
        "    seq_length: Length of each subsequence\n",
        "    ignore_last: If set to True, the final time point in the array will be\n",
        "        ignored, i.e. it will not appear in any of the training samples.\n",
        "  '''\n",
        "  # Convert to np array\n",
        "  train_set = np.array(train_set)\n",
        "  \n",
        "  # Remove last element if ignore last\n",
        "  train_set = train_set[: -1 if ignore_last else None]\n",
        "  \n",
        "  # Prepare one-shifted arrays for each succeeding time step\n",
        "  # E.g. [1,2], [2,3], [3,4]  \n",
        "  shifted_arrays = [np.roll(train_set, -i, axis=0)[:-seq_length+1] for i in range(seq_length)]\n",
        "  \n",
        "  # Stack the arrays to get sequences and remove the last (seq_length - 1) indices\n",
        "  # E.g. Rearrange from previous to get:\n",
        "  # 1 2 3\n",
        "  # 2 3 4 ...\n",
        "  \n",
        "  # Depth-stack for multi-featured time series data\n",
        "  if train_set.ndim == 1 or train_set.shape[1] == 1:\n",
        "    stacked_arrays = np.vstack(shifted_arrays).T\n",
        "  elif train_set.ndim == 2 or train_set.shape[1] > 1:\n",
        "    stacked_arrays = np.dstack(shifted_arrays)\n",
        "    stacked_arrays = np.swapaxes(stacked_arrays, axis1=1, axis2=2)\n",
        "  else:\n",
        "    raise ValueError(\"Invalid input dimensions!\")\n",
        "  \n",
        "  return stacked_arrays\n",
        "\n",
        "# Unit Testing (Test on both 1D and 2D input)\n",
        "__test_arr2d = np.array([[1,2,3,4,5,6,7],[1,2,3,4,5,6,7]]).T\n",
        "__test_output = extract_training_samples(__test_arr2d, 3, ignore_last=True)\n",
        "assert __test_output.shape == (4, 3, 2)\n",
        "\n",
        "__test_arr1d = [1,2,3,4,5,6,7]\n",
        "__test_output = extract_training_samples(__test_arr1d, 3, ignore_last=True)\n",
        "assert __test_output.shape  == (4, 3)\n"
      ],
      "execution_count": 0,
      "outputs": []
    },
    {
      "cell_type": "markdown",
      "metadata": {
        "id": "L2_khxa2gvwo",
        "colab_type": "text"
      },
      "source": [
        "**Recombining training data, extracting samples, and identifying training data output**"
      ]
    },
    {
      "cell_type": "code",
      "metadata": {
        "id": "9wl3iqpegyV9",
        "colab_type": "code",
        "colab": {
          "base_uri": "https://localhost:8080/",
          "height": 69
        },
        "outputId": "2ce5a01b-83cd-4fd9-e681-6f88fb63dbf6"
      },
      "source": [
        "# Sequence length\n",
        "SEQ_LENGTH = 27\n",
        "\n",
        "# Recombine trend and residual data into a (Length x Num. features) matrix \n",
        "X_train = np.vstack([trend, residual]).T\n",
        "print(\"Recombined X has shape of\", X_train.shape)\n",
        "\n",
        "# Extract samples\n",
        "train_samples = extract_training_samples(X_train, SEQ_LENGTH, ignore_last=True)\n",
        "print(\"Training set X has shape of\", train_samples.shape)\n",
        "\n",
        "train_output = (trend + residual)[SEQ_LENGTH:]\n",
        "print(\"Target output of training set, Y has shape of\", train_output.shape)\n"
      ],
      "execution_count": 17,
      "outputs": [
        {
          "output_type": "stream",
          "text": [
            "Recombined X has shape of (805, 2)\n",
            "Training set X has shape of (778, 27, 2)\n",
            "Target output of training set, Y has shape of (778,)\n"
          ],
          "name": "stdout"
        }
      ]
    },
    {
      "cell_type": "markdown",
      "metadata": {
        "id": "WkrN1EoVt-Zv",
        "colab_type": "text"
      },
      "source": [
        "#### Apply local normalization for each training sample\n",
        "\n",
        "To ensure that the model learns in the most general manner such that it doesn't mthe training sample comes from does not matter, we locally min-max-scale every single sample such that both trend and residual components are scaled from 0 to 1."
      ]
    },
    {
      "cell_type": "code",
      "metadata": {
        "id": "zTUBpnrYuB-L",
        "colab_type": "code",
        "colab": {}
      },
      "source": [
        "class LocalMinMaxScaler:\n",
        "  def __init__(self):\n",
        "    self.min = None\n",
        "    self.max = None\n",
        "  \n",
        "  def fit(self, arr):\n",
        "    self.min = arr.min(axis=1, keepdims=True)\n",
        "    self.max = arr.max(axis=1, keepdims=True)\n",
        "  \n",
        "  def transform(self, arr):\n",
        "    return ((arr - self.min) / (self.max - self.min))\n",
        "\n",
        "  def fit_transform(self, arr):\n",
        "    self.fit(arr)\n",
        "    return self.transform(arr)\n",
        "\n",
        "# Unit Testing (Test on both 1D and 2D input)\n",
        "__test_arr2d = np.array([[1,2,3,4,5,6],[1,2,3,4,5,6]]).T\n",
        "__test_set2d = extract_training_samples(__test_arr2d, 3)\n",
        "__test_output = LocalMinMaxScaler().fit_transform(__test_set2d)\n",
        "assert __test_output.shape == (4, 3, 2) and __test_output.max() == 1.0\n",
        "\n",
        "__test_arr1d = [1,2,3,4,5,6]\n",
        "__test_set1d = extract_training_samples(__test_arr1d, 3)\n",
        "__test_output = LocalMinMaxScaler().fit_transform(__test_set1d)\n",
        "assert __test_output.shape == (4, 3) and __test_output.max() == 1.0\n"
      ],
      "execution_count": 0,
      "outputs": []
    },
    {
      "cell_type": "markdown",
      "metadata": {
        "id": "-jtZmYWHGQTx",
        "colab_type": "text"
      },
      "source": [
        "The output to predict is also modified - the model will aim to predict the next time step value compared to the trend of the previous time step.\n",
        "\n",
        "$$\\hat{y}_{t} = \\frac{y_t}{trend_{t-1}}$$"
      ]
    },
    {
      "cell_type": "code",
      "metadata": {
        "id": "Vd2BZBbOCnJ8",
        "colab_type": "code",
        "colab": {
          "base_uri": "https://localhost:8080/",
          "height": 52
        },
        "outputId": "cfa3772b-365f-4c6e-f209-ac230471e750"
      },
      "source": [
        "# train_xscaler = LocalMinMaxScaler()\n",
        "# train_samples_scaled = train_xscaler.fit_transform(train_samples)\n",
        "\n",
        "train_last_trend_values = train_samples[:, -1, 0]\n",
        "\n",
        "train_samples_scaled = train_samples.copy()\n",
        "train_samples_scaled[:, :, 0] -= train_last_trend_values.reshape(-1,1)\n",
        "train_output_scaled = train_output - train_last_trend_values\n",
        "\n",
        "print(train_output_scaled.shape)\n",
        "print(train_output_scaled[:5])"
      ],
      "execution_count": 19,
      "outputs": [
        {
          "output_type": "stream",
          "text": [
            "(778,)\n",
            "[ 0.00189431 -0.00339502 -0.00403932  0.00215775 -0.0125411 ]\n"
          ],
          "name": "stdout"
        }
      ]
    },
    {
      "cell_type": "markdown",
      "metadata": {
        "id": "nETN_rEhAn40",
        "colab_type": "text"
      },
      "source": [
        "#### Prepare validation set (extract samples + local normalize)\n",
        "\n",
        "The steps above are repeated for the validation set"
      ]
    },
    {
      "cell_type": "code",
      "metadata": {
        "id": "hSQVVp4U5N13",
        "colab_type": "code",
        "colab": {
          "base_uri": "https://localhost:8080/",
          "height": 69
        },
        "outputId": "43457aee-09a8-408c-8c98-6c89cbb73909"
      },
      "source": [
        "# Decompose\n",
        "val_seasonal, val_trend, val_residual = robust_stl(logy[:validation_idx], period=365, n_iter=5)\n",
        "\n",
        "# Only keep the validation data portion\n",
        "val_trend = val_trend[train_idx:validation_idx]\n",
        "val_residual = val_residual[train_idx:validation_idx]\n",
        "\n",
        "# Recombine trend and residual data for the validation portion into a (Length x Num. features) matrix \n",
        "X_val = np.vstack([val_trend, val_residual]).T\n",
        "print(\"Recombined X has shape of\", X_val.shape)\n",
        "\n",
        "# Some of the input data to the validation set comes from the training set\n",
        "X_val_aug = np.concatenate([X_train[-SEQ_LENGTH:], X_val], axis=0)\n",
        "\n",
        "# Extract samples\n",
        "val_samples = extract_training_samples(X_val_aug, SEQ_LENGTH, ignore_last=True)\n",
        "print(\"Training set X has shape of\", val_samples.shape)\n",
        "\n",
        "val_output = (val_trend + val_residual)\n",
        "print(\"Target output of training set Y has shape of\", val_output.shape)\n"
      ],
      "execution_count": 20,
      "outputs": [
        {
          "output_type": "stream",
          "text": [
            "Recombined X has shape of (100, 2)\n",
            "Training set X has shape of (100, 27, 2)\n",
            "Target output of training set Y has shape of (100,)\n"
          ],
          "name": "stdout"
        }
      ]
    },
    {
      "cell_type": "code",
      "metadata": {
        "id": "7hsiw7QrSjZR",
        "colab_type": "code",
        "colab": {
          "base_uri": "https://localhost:8080/",
          "height": 52
        },
        "outputId": "af44158d-9e21-4b5f-89ce-3d12232a86cc"
      },
      "source": [
        "# val_xscaler = LocalMinMaxScaler()\n",
        "# val_samples_scaled = val_xscaler.fit_transform(val_samples)\n",
        "\n",
        "val_last_trend_values = val_samples[:, -1, 0]\n",
        "val_samples_scaled = val_samples.copy()\n",
        "val_samples_scaled[:, :, 0] -= val_last_trend_values.reshape(-1,1)\n",
        "\n",
        "val_output_scaled = val_output - val_last_trend_values\n",
        "\n",
        "print(val_output_scaled.shape)\n",
        "print(val_output_scaled[:5])"
      ],
      "execution_count": 21,
      "outputs": [
        {
          "output_type": "stream",
          "text": [
            "(100,)\n",
            "[ 0.0209256   0.00383084 -0.00033492 -0.00384917  0.00086815]\n"
          ],
          "name": "stdout"
        }
      ]
    },
    {
      "cell_type": "markdown",
      "metadata": {
        "id": "s3nCyAqPetyW",
        "colab_type": "text"
      },
      "source": [
        "#### Prepare preprocessing pipeline\n",
        "\n",
        "To streamline the dataset preparation procedure, a pipeline involving all the required preprocessing steps is prepared. It consists of:\n",
        "\n",
        "Train-test Split $\\rightarrow$ TS Decomposition $\\rightarrow$ Recombining training data $\\rightarrow$ Extract training samples using sliding window $\\rightarrow$ Apply local normalization for each training sample"
      ]
    },
    {
      "cell_type": "code",
      "metadata": {
        "id": "UZ1uPLJ6cRIu",
        "colab_type": "code",
        "colab": {
          "base_uri": "https://localhost:8080/",
          "height": 35
        },
        "outputId": "7e811524-264b-4f54-b958-afb104ae8a81"
      },
      "source": [
        "# Recombine trend and residual data into a (Length x Num. features) matrix \n",
        "X = np.vstack([trend, residual]).T\n",
        "print(X.shape)"
      ],
      "execution_count": 39,
      "outputs": [
        {
          "output_type": "stream",
          "text": [
            "(1006, 2)\n"
          ],
          "name": "stdout"
        }
      ]
    },
    {
      "cell_type": "markdown",
      "metadata": {
        "id": "meu6otDHH_49",
        "colab_type": "text"
      },
      "source": [
        "## Train and test models"
      ]
    },
    {
      "cell_type": "code",
      "metadata": {
        "id": "dIBSu38BIJgI",
        "colab_type": "code",
        "colab": {}
      },
      "source": [
        "%%capture\n",
        "!pip install -q tensorflow-gpu==2.0.0-alpha0"
      ],
      "execution_count": 0,
      "outputs": []
    },
    {
      "cell_type": "code",
      "metadata": {
        "id": "bi85lNcgIo8I",
        "colab_type": "code",
        "colab": {}
      },
      "source": [
        "import tensorflow as tf\n",
        "from tensorflow.keras import layers"
      ],
      "execution_count": 0,
      "outputs": []
    },
    {
      "cell_type": "code",
      "metadata": {
        "id": "FPAM1VOXICNl",
        "colab_type": "code",
        "colab": {}
      },
      "source": [
        "def create_model(input_shape=(27,2,), rnn_units=[256, 128], rnn_dropout=0.3, dense_units=[64], dense_dropout=0.3):\n",
        "  inputs = tf.keras.Input(shape=input_shape)\n",
        "  x = inputs\n",
        "  \n",
        "  # RNN layers (e.g. GRU)\n",
        "  # Return sequences on last RNN layer before feeding into dense section\n",
        "  for idx, rnn in enumerate(rnn_units):\n",
        "    x = layers.GRU(\n",
        "        units=rnn,\n",
        "        activation=\"tanh\",\n",
        "        recurrent_activation=\"sigmoid\",\n",
        "        return_sequences=(idx != len(rnn_units) - 1),\n",
        "    )(x)\n",
        "    \n",
        "    x = layers.Dropout(rnn_dropout)(x)\n",
        "  \n",
        "  # Dense layers\n",
        "  for dense in dense_units:\n",
        "    x = layers.Dense(units=dense)(x)\n",
        "    x = layers.LeakyReLU(0.05)(x)\n",
        "    x = layers.Dropout(dense_dropout)(x)\n",
        "  \n",
        "  # Final output\n",
        "  outputs = layers.Dense(1)(x)\n",
        "  \n",
        "  model = tf.keras.Model(inputs=inputs, outputs=outputs)\n",
        "  \n",
        "  opt = tf.optimizers.Adam(learning_rate=0.001)\n",
        "  loss = tf.losses.MeanSquaredError()\n",
        "  model.compile(optimizer=opt, loss=loss)\n",
        "  \n",
        "  print(model.summary())\n",
        "  return model"
      ],
      "execution_count": 0,
      "outputs": []
    },
    {
      "cell_type": "code",
      "metadata": {
        "id": "cRqOXjCvbwVa",
        "colab_type": "code",
        "colab": {
          "base_uri": "https://localhost:8080/",
          "height": 553
        },
        "outputId": "49ba0d3e-64d7-4336-ee53-e207f305659d"
      },
      "source": [
        "training_model = create_model(input_shape=(SEQ_LENGTH,2), rnn_units=[256, 196, 128], rnn_dropout=0.3, dense_units=[64], dense_dropout=0.4)\n",
        "\n",
        "# Define callbacks\n",
        "model_checkpoint = tf.keras.callbacks.ModelCheckpoint('model.h5', save_best_only=True, verbose=False)\n",
        "\n",
        "def progress_callback_fn(epoch, logs):\n",
        "  if epoch % 10 == 0:\n",
        "    print(\"Epoch {} ----- Loss: {}, Val loss: {}\".format(epoch, logs['loss'], logs['val_loss']))\n",
        "progress_callback = tf.keras.callbacks.LambdaCallback(on_epoch_end=progress_callback_fn)"
      ],
      "execution_count": 25,
      "outputs": [
        {
          "output_type": "stream",
          "text": [
            "Model: \"model\"\n",
            "_________________________________________________________________\n",
            "Layer (type)                 Output Shape              Param #   \n",
            "=================================================================\n",
            "input_1 (InputLayer)         [(None, 27, 2)]           0         \n",
            "_________________________________________________________________\n",
            "unified_gru (UnifiedGRU)     (None, 27, 256)           199680    \n",
            "_________________________________________________________________\n",
            "dropout (Dropout)            (None, 27, 256)           0         \n",
            "_________________________________________________________________\n",
            "unified_gru_1 (UnifiedGRU)   (None, 27, 196)           266952    \n",
            "_________________________________________________________________\n",
            "dropout_1 (Dropout)          (None, 27, 196)           0         \n",
            "_________________________________________________________________\n",
            "unified_gru_2 (UnifiedGRU)   (None, 128)               125184    \n",
            "_________________________________________________________________\n",
            "dropout_2 (Dropout)          (None, 128)               0         \n",
            "_________________________________________________________________\n",
            "dense (Dense)                (None, 64)                8256      \n",
            "_________________________________________________________________\n",
            "leaky_re_lu (LeakyReLU)      (None, 64)                0         \n",
            "_________________________________________________________________\n",
            "dropout_3 (Dropout)          (None, 64)                0         \n",
            "_________________________________________________________________\n",
            "dense_1 (Dense)              (None, 1)                 65        \n",
            "=================================================================\n",
            "Total params: 600,137\n",
            "Trainable params: 600,137\n",
            "Non-trainable params: 0\n",
            "_________________________________________________________________\n",
            "None\n"
          ],
          "name": "stdout"
        }
      ]
    },
    {
      "cell_type": "code",
      "metadata": {
        "id": "9g1e4f9SNRT4",
        "colab_type": "code",
        "colab": {
          "base_uri": "https://localhost:8080/",
          "height": 898
        },
        "outputId": "740969b9-e905-43d2-91b3-0d7481bbbb79"
      },
      "source": [
        "training_model.fit(\n",
        "    x=train_samples_scaled, \n",
        "    y=train_output_scaled,\n",
        "    validation_data=(val_samples_scaled, val_output_scaled),\n",
        "    batch_size=64,\n",
        "    epochs=500,\n",
        "    verbose=False,\n",
        "    callbacks=[model_checkpoint, progress_callback]\n",
        ")"
      ],
      "execution_count": 26,
      "outputs": [
        {
          "output_type": "stream",
          "text": [
            "Epoch 0 ----- Loss: 0.0002096176369405701, Val loss: 4.5445072755683215e-05\n",
            "Epoch 10 ----- Loss: 3.064385971081668e-05, Val loss: 4.516833112575114e-05\n",
            "Epoch 20 ----- Loss: 3.0802554387858395e-05, Val loss: 4.373430798295885e-05\n",
            "Epoch 30 ----- Loss: 2.829562598817855e-05, Val loss: 4.237939763697795e-05\n",
            "Epoch 40 ----- Loss: 2.7762922778904286e-05, Val loss: 4.253324383171275e-05\n",
            "Epoch 50 ----- Loss: 2.6500845065702216e-05, Val loss: 3.7652908504242076e-05\n",
            "Epoch 60 ----- Loss: 2.3579564110821402e-05, Val loss: 2.911195668275468e-05\n",
            "Epoch 70 ----- Loss: 2.003139834040384e-05, Val loss: 2.8829761722590773e-05\n",
            "Epoch 80 ----- Loss: 1.909734929005309e-05, Val loss: 2.535372012061998e-05\n",
            "Epoch 90 ----- Loss: 1.8754063068000553e-05, Val loss: 2.5375583063578234e-05\n",
            "Epoch 100 ----- Loss: 1.5213787624713303e-05, Val loss: 3.4055938449455425e-05\n",
            "Epoch 110 ----- Loss: 1.8045539036393166e-05, Val loss: 2.5210124294972048e-05\n",
            "Epoch 120 ----- Loss: 1.8053861427281572e-05, Val loss: 2.389639354078099e-05\n",
            "Epoch 130 ----- Loss: 1.542314875524989e-05, Val loss: 2.2722821231582202e-05\n",
            "Epoch 140 ----- Loss: 1.5537261554464377e-05, Val loss: 2.2863918493385425e-05\n",
            "Epoch 150 ----- Loss: 1.6591632865711382e-05, Val loss: 2.4559858720749615e-05\n",
            "Epoch 160 ----- Loss: 1.7325466526302647e-05, Val loss: 2.6758632811834106e-05\n",
            "Epoch 170 ----- Loss: 1.9480063659881162e-05, Val loss: 2.8765108654624784e-05\n",
            "Epoch 180 ----- Loss: 1.535893847138931e-05, Val loss: 2.3800538401701487e-05\n",
            "Epoch 190 ----- Loss: 1.4444677647969931e-05, Val loss: 2.297305938554928e-05\n",
            "Epoch 200 ----- Loss: 1.530329683404428e-05, Val loss: 2.218226400145795e-05\n",
            "Epoch 210 ----- Loss: 1.5185737650784464e-05, Val loss: 2.239946938061621e-05\n",
            "Epoch 220 ----- Loss: 1.7464490904441945e-05, Val loss: 2.6519899402046578e-05\n",
            "Epoch 230 ----- Loss: 1.633342883024714e-05, Val loss: 2.2832382237538697e-05\n",
            "Epoch 240 ----- Loss: 1.555500781615618e-05, Val loss: 2.25108684389852e-05\n",
            "Epoch 250 ----- Loss: 1.677753679053457e-05, Val loss: 2.492011699359864e-05\n",
            "Epoch 260 ----- Loss: 1.5809758825224326e-05, Val loss: 3.0252353171817957e-05\n",
            "Epoch 270 ----- Loss: 1.5617331266750725e-05, Val loss: 2.320762228919193e-05\n",
            "Epoch 280 ----- Loss: 1.484913658069207e-05, Val loss: 2.209682497777976e-05\n",
            "Epoch 290 ----- Loss: 1.698242167806508e-05, Val loss: 2.961317433801014e-05\n",
            "Epoch 300 ----- Loss: 1.5370230088929182e-05, Val loss: 2.3639184728381224e-05\n",
            "Epoch 310 ----- Loss: 1.6235996500539874e-05, Val loss: 2.2192284377524628e-05\n",
            "Epoch 320 ----- Loss: 1.408141801978586e-05, Val loss: 2.174684515921399e-05\n",
            "Epoch 330 ----- Loss: 1.539336524934898e-05, Val loss: 2.4436348030576483e-05\n",
            "Epoch 340 ----- Loss: 1.527616328240796e-05, Val loss: 2.3649380527785978e-05\n",
            "Epoch 350 ----- Loss: 1.783203492602477e-05, Val loss: 2.300626991200261e-05\n",
            "Epoch 360 ----- Loss: 1.4796617251517404e-05, Val loss: 2.1551366335188503e-05\n",
            "Epoch 370 ----- Loss: 1.354550411886189e-05, Val loss: 2.3382429280900395e-05\n",
            "Epoch 380 ----- Loss: 1.4906931612743867e-05, Val loss: 2.2715947270626202e-05\n",
            "Epoch 390 ----- Loss: 1.5660577275720545e-05, Val loss: 2.2598363284487277e-05\n",
            "Epoch 400 ----- Loss: 1.5308004182225912e-05, Val loss: 2.2072805149946363e-05\n",
            "Epoch 410 ----- Loss: 1.3950911456994218e-05, Val loss: 2.3889067670097574e-05\n",
            "Epoch 420 ----- Loss: 1.4460764342521639e-05, Val loss: 2.198804409999866e-05\n",
            "Epoch 430 ----- Loss: 1.4631753305913246e-05, Val loss: 2.164086683478672e-05\n",
            "Epoch 440 ----- Loss: 1.3046287506166966e-05, Val loss: 2.4581960460636764e-05\n",
            "Epoch 450 ----- Loss: 1.443290862754277e-05, Val loss: 2.2445526046794838e-05\n",
            "Epoch 460 ----- Loss: 1.4820626815106896e-05, Val loss: 2.441039658151567e-05\n",
            "Epoch 470 ----- Loss: 1.3356396527008101e-05, Val loss: 2.2041217889636754e-05\n",
            "Epoch 480 ----- Loss: 1.4330676541251315e-05, Val loss: 2.1713336391258053e-05\n",
            "Epoch 490 ----- Loss: 1.6780436509813316e-05, Val loss: 2.365618209296372e-05\n"
          ],
          "name": "stdout"
        },
        {
          "output_type": "execute_result",
          "data": {
            "text/plain": [
              "<tensorflow.python.keras.callbacks.History at 0x7f32fbca0cc0>"
            ]
          },
          "metadata": {
            "tags": []
          },
          "execution_count": 26
        }
      ]
    },
    {
      "cell_type": "code",
      "metadata": {
        "id": "wu8Bm8eQmHXL",
        "colab_type": "code",
        "colab": {
          "base_uri": "https://localhost:8080/",
          "height": 553
        },
        "outputId": "ac7f85c3-77e8-4ad5-fdad-669bff41dea9"
      },
      "source": [
        "model = create_model(input_shape=(SEQ_LENGTH,2), rnn_units=[256, 196, 128], rnn_dropout=0.3, dense_units=[64], dense_dropout=0.4)\n",
        "\n",
        "model.load_weights('model.h5')"
      ],
      "execution_count": 27,
      "outputs": [
        {
          "output_type": "stream",
          "text": [
            "Model: \"model_1\"\n",
            "_________________________________________________________________\n",
            "Layer (type)                 Output Shape              Param #   \n",
            "=================================================================\n",
            "input_2 (InputLayer)         [(None, 27, 2)]           0         \n",
            "_________________________________________________________________\n",
            "unified_gru_3 (UnifiedGRU)   (None, 27, 256)           199680    \n",
            "_________________________________________________________________\n",
            "dropout_4 (Dropout)          (None, 27, 256)           0         \n",
            "_________________________________________________________________\n",
            "unified_gru_4 (UnifiedGRU)   (None, 27, 196)           266952    \n",
            "_________________________________________________________________\n",
            "dropout_5 (Dropout)          (None, 27, 196)           0         \n",
            "_________________________________________________________________\n",
            "unified_gru_5 (UnifiedGRU)   (None, 128)               125184    \n",
            "_________________________________________________________________\n",
            "dropout_6 (Dropout)          (None, 128)               0         \n",
            "_________________________________________________________________\n",
            "dense_2 (Dense)              (None, 64)                8256      \n",
            "_________________________________________________________________\n",
            "leaky_re_lu_1 (LeakyReLU)    (None, 64)                0         \n",
            "_________________________________________________________________\n",
            "dropout_7 (Dropout)          (None, 64)                0         \n",
            "_________________________________________________________________\n",
            "dense_3 (Dense)              (None, 1)                 65        \n",
            "=================================================================\n",
            "Total params: 600,137\n",
            "Trainable params: 600,137\n",
            "Non-trainable params: 0\n",
            "_________________________________________________________________\n",
            "None\n"
          ],
          "name": "stdout"
        }
      ]
    },
    {
      "cell_type": "code",
      "metadata": {
        "id": "zodcqMdCN2HM",
        "colab_type": "code",
        "colab": {
          "base_uri": "https://localhost:8080/",
          "height": 286
        },
        "outputId": "052d5b73-9e90-4f44-a430-f7f6e3d29ce1"
      },
      "source": [
        "train_predictions = model.predict(train_samples_scaled)\n",
        "\n",
        "train_predictions_inverse = train_predictions.flatten() + train_last_trend_values\n",
        "train_predictions_inverse += seasonal[SEQ_LENGTH:] #extend_seasonal_forecast(seasonal, 1, period=365)\n",
        "\n",
        "# Anti-log-transform\n",
        "train_predictions_actual = np.exp(train_predictions_inverse)\n",
        "\n",
        "plt.plot(train_predictions_actual)\n",
        "plt.plot(np.exp(train_output + seasonal[SEQ_LENGTH:]))\n",
        "\n",
        "plt.show()\n",
        "\n",
        "def evaluate_diff_from_naive(y_pred, y_actual, y_prev):\n",
        "  return np.sum(np.abs(y_actual - y_prev)), np.sum(np.abs(y_actual - y_pred))\n",
        "\n",
        "delogged_final_output = np.exp(logy[SEQ_LENGTH:train_idx])\n",
        "\n",
        "print(evaluate_diff_from_naive(train_predictions_actual[1:], delogged_final_output[1:], delogged_final_output[:-1]))"
      ],
      "execution_count": 32,
      "outputs": [
        {
          "output_type": "display_data",
          "data": {
            "image/png": "[encoded data removed]",
            "text/plain": [
              "<Figure size 432x288 with 1 Axes>"
            ]
          },
          "metadata": {
            "tags": []
          }
        },
        {
          "output_type": "stream",
          "text": [
            "(931.1234999999973, 448.40079958991817)\n"
          ],
          "name": "stdout"
        }
      ]
    },
    {
      "cell_type": "markdown",
      "metadata": {
        "id": "MskofHjgYgNF",
        "colab_type": "text"
      },
      "source": [
        "#### Test validation error for model\n",
        "\n",
        "The validation error used in model training is only dependent on the trend and residual, i.e. as long as the model can predict trend and residual well, it is deemed successful enough.\n",
        "\n",
        "We can test it in a more realistic setting, taking seasonality into account, following the inference procedure as outlined earlier. Each succeeding time point is added to the training data, the entire time series is decomposed, the model predicts the next time point (trend + residual), and the seasonality is extended and added to this prediction. This should produce the most realistic predictions.\n",
        " \n",
        "WARNING: This is only possible for small validation sets! In our case, we will do this on a few samples from the test set, not the validation set."
      ]
    },
    {
      "cell_type": "code",
      "metadata": {
        "id": "IaAoO_uWy6C6",
        "colab_type": "code",
        "colab": {
          "base_uri": "https://localhost:8080/",
          "height": 286
        },
        "outputId": "64bd7174-a2df-4736-d70a-db1d7b32a294"
      },
      "source": [
        "val_predictions = model.predict(val_samples_scaled)\n",
        "\n",
        "val_predictions_inverse = val_predictions.flatten() + val_last_trend_values\n",
        "seasonal_comp = extend_seasonal_forecast(seasonal, val_predictions.size, period=365)\n",
        "val_predictions_inverse += seasonal_comp\n",
        "\n",
        "# Anti-log-transform\n",
        "val_predictions_actual = np.exp(val_predictions_inverse)\n",
        "\n",
        "plt.plot(val_predictions_actual.flatten(), label=\"Prediction\")\n",
        "plt.plot(np.exp(validation_set), label=\"Actual\")\n",
        "plt.plot(np.exp(val_output + seasonal_comp), label=\"Actual using seasonal est.\", color=\"C3\")\n",
        "plt.legend(loc='best')\n",
        "\n",
        "plt.show()\n",
        "\n",
        "# Show actual error\n",
        "print(\"Validation RMSE:\", np.sqrt(np.mean((val_predictions_actual - np.exp(validation_set))**2)))"
      ],
      "execution_count": 40,
      "outputs": [
        {
          "output_type": "display_data",
          "data": {
            "image/png": "[encoded data removed]",
            "text/plain": [
              "<Figure size 432x288 with 1 Axes>"
            ]
          },
          "metadata": {
            "tags": []
          }
        },
        {
          "output_type": "stream",
          "text": [
            "Validation RMSE: 4.991414909729094\n"
          ],
          "name": "stdout"
        }
      ]
    },
    {
      "cell_type": "markdown",
      "metadata": {
        "id": "YKI_754y0t0K",
        "colab_type": "text"
      },
      "source": [
        "The prediction seems to look quite accurate if the actual seasonal component was left out. Note that the seasonality is extrapolated from the training set to the entire validation set. Since the seasonal component is supposed to be using all data prior to each predicted time point, it is expected that the accuracy of the seasonality identified will decrease."
      ]
    },
    {
      "cell_type": "markdown",
      "metadata": {
        "id": "3a0YHgM5Tx7i",
        "colab_type": "text"
      },
      "source": [
        "## Testing model inference"
      ]
    },
    {
      "cell_type": "code",
      "metadata": {
        "id": "jmqs_dtGYYMP",
        "colab_type": "code",
        "colab": {}
      },
      "source": [
        "def model_inference(current_data, new_data=None):\n",
        "  if new_data is not None:\n",
        "    combined_data = np.concatenate([current_data, new_data], axis=0)\n",
        "  else:\n",
        "    combined_data = current_data\n",
        "  combined_data = np.log(combined_data)\n",
        "  \n",
        "  # Robust STL is time consuming for long historical data, so we try to limit its iterations to 1\n",
        "  _seasonal, _trend, _residual = robust_stl(combined_data, period=365, n_iter=1)\n",
        "  \n",
        "  # Take the last SEQ_LENGTH of values as the input to the model\n",
        "  x_input = np.vstack([_trend[-SEQ_LENGTH:], _residual[-SEQ_LENGTH:]]).T\n",
        "  \n",
        "  # Scale by subtracting last value of trend\n",
        "  trend_last_value = x_input[-1, 0].copy()\n",
        "  x_input[:, 0] -= trend_last_value\n",
        "  \n",
        "  # Resize to 3D tensor\n",
        "  x_input = np.expand_dims(x_input, axis=0)\n",
        "  \n",
        "  # Feed into model\n",
        "  y_output = model.predict(x_input)\n",
        "  \n",
        "  # Add back trend\n",
        "  y_output += trend_last_value\n",
        "  \n",
        "  # Add back seasonality\n",
        "  y_output += extend_seasonal_forecast(_seasonal, 1, period=365)\n",
        "  \n",
        "  # Reverse the log-transform to get actual predicted price\n",
        "  y_output_actual = np.exp(y_output)\n",
        "  \n",
        "  return y_output_actual\n",
        "\n",
        "\n",
        "# Start with training set only and feed in validation set 1 by 1 for testing...\n",
        "def evaluate_set(current_data, testing_data):\n",
        "  final_combined_data = np.concatenate([current_data, testing_data], axis=0)\n",
        "  \n",
        "  predicted_outputs = []\n",
        "  for idx, _ in enumerate(testing_data):\n",
        "    # Current data + idx of input data\n",
        "    input_at_this_step = final_combined_data[:current_data.shape[0] + idx]\n",
        "    predicted_output = model_inference(input_at_this_step)\n",
        "    \n",
        "    predicted_outputs.append(predicted_output)\n",
        "  \n",
        "  return np.array(predicted_outputs)"
      ],
      "execution_count": 0,
      "outputs": []
    },
    {
      "cell_type": "code",
      "metadata": {
        "id": "_H62NS2NUHx8",
        "colab_type": "code",
        "colab": {
          "base_uri": "https://localhost:8080/",
          "height": 286
        },
        "outputId": "fb0c8b69-27c4-47af-b711-0dd2fa2662e3"
      },
      "source": [
        "test_predictions_actual = evaluate_set(y[:validation_idx], y[validation_idx:])\n",
        "\n",
        "plt.plot(test_predictions_actual.flatten())\n",
        "plt.plot(y[validation_idx:])"
      ],
      "execution_count": 45,
      "outputs": [
        {
          "output_type": "execute_result",
          "data": {
            "text/plain": [
              "[<matplotlib.lines.Line2D at 0x7f32fbd055f8>]"
            ]
          },
          "metadata": {
            "tags": []
          },
          "execution_count": 45
        },
        {
          "output_type": "display_data",
          "data": {
            "image/png": "[encoded data removed]",
            "text/plain": [
              "<Figure size 432x288 with 1 Axes>"
            ]
          },
          "metadata": {
            "tags": []
          }
        }
      ]
    },
    {
      "cell_type": "markdown",
      "metadata": {
        "id": "Mq0MQ0g13Tmy",
        "colab_type": "text"
      },
      "source": [
        "We can further evaluate the quality of predictions by playing a simple game: if the prediction is predicted to increase, we will buy 1000 stocks at the current price and sell it at the next time step. Assume no costs involved and that the bid and ask are exactly the same."
      ]
    },
    {
      "cell_type": "code",
      "metadata": {
        "id": "4b6qAPkW3xDX",
        "colab_type": "code",
        "colab": {
          "base_uri": "https://localhost:8080/",
          "height": 35
        },
        "outputId": "1fd88dc7-1e6d-4fed-95af-2e4e4d1893f8"
      },
      "source": [
        "earnings = 0\n",
        "\n",
        "for idx, pred in enumerate(test_predictions_actual):\n",
        "  # Buy at previous price if predicted increase\n",
        "  diff = pred - y[validation_idx + idx - 1]\n",
        "  if diff > 0:\n",
        "    earnings += 1000 * (y[validation_idx + idx] - y[validation_idx + idx - 1])\n",
        "\n",
        "print(\"Result: {} ${}\".format(\"Earn\" if earnings >=0 else \"Lose\", earnings))"
      ],
      "execution_count": 50,
      "outputs": [
        {
          "output_type": "stream",
          "text": [
            "Result: Earn $7938.899999999992\n"
          ],
          "name": "stdout"
        }
      ]
    },
    {
      "cell_type": "markdown",
      "metadata": {
        "id": "buF6OKkY6Eis",
        "colab_type": "text"
      },
      "source": [
        "Not very good considering the price more or less rose all the way up..."
      ]
    },
    {
      "cell_type": "markdown",
      "metadata": {
        "id": "-ZSpytmUQ5t-",
        "colab_type": "text"
      },
      "source": [
        "## Limitations"
      ]
    },
    {
      "cell_type": "markdown",
      "metadata": {
        "id": "8tb2br3xQ7y9",
        "colab_type": "text"
      },
      "source": [
        "Unfortunately, the change in stock price is not well-correlated to the historical stock price itself, and using the historical stock price to predict what would happen in the future is not correct. More types of data which has a direct effect on the stock price such as an indication of investor sentiment is required to build better and more accurate models.\n",
        "\n",
        "Importantly, there should be a response lag time between a change in a feature $x$ and the resultant change in stock price $y$, so that the model has time to anticipate the price change and perform an action before it takes effect."
      ]
    },
    {
      "cell_type": "code",
      "metadata": {
        "id": "EdSWcaARU2m9",
        "colab_type": "code",
        "colab": {}
      },
      "source": [
        ""
      ],
      "execution_count": 0,
      "outputs": []
    }
  ]
}